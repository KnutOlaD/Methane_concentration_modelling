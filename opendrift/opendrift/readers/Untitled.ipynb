{
 "cells": [
  {
   "cell_type": "code",
   "execution_count": 3,
   "id": "be5f8f8f-e29d-4094-84ab-f48b24402126",
   "metadata": {},
   "outputs": [],
   "source": [
    "import sys\n",
    "sys.path.append('/cluster/home/hes001/opendrift/')\n",
    "sys.path.append('/cluster/home/hes001/Methane_dispersion_modelling/')\n",
    "from datetime import datetime, timedelta\n",
    "import norkyst.roms_grid as rg\n",
    "import pyproj"
   ]
  },
  {
   "cell_type": "code",
   "execution_count": 5,
   "id": "d17f6509-de25-4d5e-9535-fc5d7cee8549",
   "metadata": {},
   "outputs": [],
   "source": [
    "M = rg.get_roms_grid('MET-NK', pyproj.Proj('EPSG:32633')) # her kan du også hente data fra andre havmodeller hos met, feks NorShelf - 'NS'\n"
   ]
  },
  {
   "cell_type": "code",
   "execution_count": 9,
   "id": "5ac81525-c57f-4309-ba0e-de5f2e88386b",
   "metadata": {},
   "outputs": [
    {
     "name": "stdout",
     "output_type": "stream",
     "text": [
      "found 2018-05-20 00:00:00\n",
      "found 2018-05-21 00:00:00\n",
      "found 2018-05-22 00:00:00\n",
      "found 2018-05-23 00:00:00\n",
      "found 2018-05-24 00:00:00\n",
      "found 2018-05-25 00:00:00\n",
      "found 2018-05-26 00:00:00\n",
      "found 2018-05-27 00:00:00\n",
      "found 2018-05-28 00:00:00\n",
      "found 2018-05-29 00:00:00\n",
      "found 2018-05-30 00:00:00\n",
      "found 2018-05-31 00:00:00\n",
      "found 2018-06-01 00:00:00\n",
      "found 2018-06-02 00:00:00\n",
      "found 2018-06-03 00:00:00\n",
      "found 2018-06-04 00:00:00\n",
      "found 2018-06-05 00:00:00\n",
      "found 2018-06-06 00:00:00\n",
      "found 2018-06-07 00:00:00\n",
      "found 2018-06-08 00:00:00\n",
      "found 2018-06-09 00:00:00\n",
      "found 2018-06-10 00:00:00\n",
      "found 2018-06-11 00:00:00\n",
      "found 2018-06-12 00:00:00\n",
      "found 2018-06-13 00:00:00\n",
      "found 2018-06-14 00:00:00\n",
      "found 2018-06-15 00:00:00\n",
      "found 2018-06-16 00:00:00\n",
      "found 2018-06-17 00:00:00\n",
      "found 2018-06-18 00:00:00\n",
      "found 2018-06-19 00:00:00\n",
      "found 2018-06-20 00:00:00\n",
      "found 2018-06-21 00:00:00\n"
     ]
    }
   ],
   "source": [
    "start = datetime(2018, 5, 20)\n",
    "stop  = datetime(2018, 6, 20)\n",
    "dates = [start + timedelta(days = n) for n in range((stop+timedelta(days=2)-start).days)]\n",
    "roms_files = []\n",
    "for d in dates:\n",
    "    try:\n",
    "        roms_files.append(M.test_day(d))\n",
    "        print(f'found {d}')\n",
    "    except:\n",
    "        print(f'- {d} is not available')"
   ]
  },
  {
   "cell_type": "code",
   "execution_count": 8,
   "id": "5bf94cb4-0439-4be3-a759-9ff842a5d481",
   "metadata": {},
   "outputs": [
    {
     "data": {
      "text/plain": [
       "datetime.datetime(2018, 6, 21, 0, 0)"
      ]
     },
     "execution_count": 8,
     "metadata": {},
     "output_type": "execute_result"
    }
   ],
   "source": [
    "stop+timedelta(days=1)"
   ]
  },
  {
   "cell_type": "code",
   "execution_count": 10,
   "id": "b6b30c73-af8b-472e-8375-fa1066069b34",
   "metadata": {},
   "outputs": [],
   "source": [
    "days = (stop-start).days"
   ]
  },
  {
   "cell_type": "code",
   "execution_count": 11,
   "id": "8a791a57-bec2-44f8-a71f-21460280d7f4",
   "metadata": {},
   "outputs": [
    {
     "data": {
      "text/plain": [
       "datetime.datetime(2018, 6, 20, 0, 0)"
      ]
     },
     "execution_count": 11,
     "metadata": {},
     "output_type": "execute_result"
    }
   ],
   "source": [
    "start+timedelta(days=days)"
   ]
  },
  {
   "cell_type": "code",
   "execution_count": null,
   "id": "eef55ab6-71c1-4328-883e-283df45bb769",
   "metadata": {},
   "outputs": [],
   "source": []
  }
 ],
 "metadata": {
  "kernelspec": {
   "display_name": "Python 3 (ipykernel)",
   "language": "python",
   "name": "python3"
  },
  "language_info": {
   "codemirror_mode": {
    "name": "ipython",
    "version": 3
   },
   "file_extension": ".py",
   "mimetype": "text/x-python",
   "name": "python",
   "nbconvert_exporter": "python",
   "pygments_lexer": "ipython3",
   "version": "3.11.4"
  }
 },
 "nbformat": 4,
 "nbformat_minor": 5
}
