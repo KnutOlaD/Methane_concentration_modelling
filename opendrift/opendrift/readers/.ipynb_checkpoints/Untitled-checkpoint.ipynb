{
 "cells": [
  {
   "cell_type": "code",
   "execution_count": 3,
   "id": "be5f8f8f-e29d-4094-84ab-f48b24402126",
   "metadata": {},
   "outputs": [],
   "source": [
    "import sys\n",
    "sys.path.append('/cluster/home/hes001/opendrift/')\n",
    "sys.path.append('/cluster/home/hes001/Methane_dispersion_modelling/')\n",
    "from datetime import datetime, timedelta\n",
    "import norkyst.roms_grid as rg\n",
    "import pyproj"
   ]
  },
  {
   "cell_type": "code",
   "execution_count": 5,
   "id": "d17f6509-de25-4d5e-9535-fc5d7cee8549",
   "metadata": {},
   "outputs": [],
   "source": [
    "M = rg.get_roms_grid('MET-NK', pyproj.Proj('EPSG:32633')) # her kan du også hente data fra andre havmodeller hos met, feks NorShelf - 'NS'\n"
   ]
  },
  {
   "cell_type": "code",
   "execution_count": 6,
   "id": "5ac81525-c57f-4309-ba0e-de5f2e88386b",
   "metadata": {},
   "outputs": [],
   "source": [
    "start = datetime(2018, 5, 20)\n",
    "stop  = datetime(2018, 6, 20)\n",
    "dates = [start + timedelta(days = n) for n in range((stop+timedelta(days=1)-start).days)]\n",
    "roms_files = []\n",
    "for d in dates:\n",
    "    try:\n",
    "        roms_files.append(M.test_day(d))\n",
    "        print(f'found {d}')\n",
    "    except:\n",
    "        print(f'- {d} is not available')"
   ]
  },
  {
   "cell_type": "code",
   "execution_count": null,
   "id": "5bf94cb4-0439-4be3-a759-9ff842a5d481",
   "metadata": {},
   "outputs": [],
   "source": []
  }
 ],
 "metadata": {
  "kernelspec": {
   "display_name": "Python 3 (ipykernel)",
   "language": "python",
   "name": "python3"
  },
  "language_info": {
   "codemirror_mode": {
    "name": "ipython",
    "version": 3
   },
   "file_extension": ".py",
   "mimetype": "text/x-python",
   "name": "python",
   "nbconvert_exporter": "python",
   "pygments_lexer": "ipython3",
   "version": "3.10.12"
  }
 },
 "nbformat": 4,
 "nbformat_minor": 5
}
